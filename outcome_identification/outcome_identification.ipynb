{
 "cells": [
  {
   "cell_type": "code",
   "execution_count": 1,
   "metadata": {},
   "outputs": [],
   "source": [
    "import pandas as pd \n",
    "import re, os, glob\n",
    "import numpy as np\n",
    "from sklearn.metrics import accuracy_score, classification_report, confusion_matrix, f1_score\n",
    "from sklearn.svm import LinearSVC\n",
    "from sklearn.model_selection import cross_val_predict\n",
    "from sklearn.feature_extraction.text import TfidfVectorizer, CountVectorizer\n",
    "from sklearn.pipeline import Pipeline, FeatureUnion"
   ]
  },
  {
   "cell_type": "code",
   "execution_count": 2,
   "metadata": {},
   "outputs": [],
   "source": [
    "def extract_uitspraak(uitspraak):\n",
    "    # ontbinding & ontruiming = obon\n",
    "    # Ontruiming = on\n",
    "    # Afwijzing = af\n",
    "    # Ontbinding = ob\n",
    "    # Voorwaardelijke ontruiming = von\n",
    "    match = None\n",
    "    for match in re.finditer(r'beslissing', uitspraak, re.IGNORECASE|re.DOTALL):\n",
    "        pass\n",
    "    if match != None:\n",
    "        index = match.span()[0]\n",
    "        verdict = uitspraak[index:].lower()\n",
    "    else:\n",
    "        verdict = uitspraak[-2500:].lower()\n",
    "    m = re.findall('ontbonden|ontbinding|ontbind|ontruimen|ontruiming|verlat|wijst.*?af|weiger|niet rechtvaardigt|afgewezen', verdict, re.IGNORECASE|re.DOTALL)\n",
    "    if m != []:\n",
    "        if (('ontbonden' in m) or ('ontbinding' in m) or ('ontbind' in m)) and (('ontruimen' in m) or ('ontruiming' in m) or ('verlat' in m)) :\n",
    "            return True\n",
    "        elif (('ontruimen' in m) or ('ontruiming' in m) or ('verlat' in m)) :\n",
    "            return True\n",
    "        else:\n",
    "            return False\n",
    "    return False"
   ]
  },
  {
   "cell_type": "code",
   "execution_count": 3,
   "metadata": {},
   "outputs": [],
   "source": [
    "def test_model(Xtrain, Ytrain, Xtest, Ytest):\n",
    "    vec3 = CountVectorizer(analyzer = 'char',ngram_range = (1,7), max_features=2000, max_df = 0.9, lowercase=True, binary = True)\n",
    "\n",
    "    pipeline =  Pipeline([\n",
    "        ('features', FeatureUnion([('charvec', vec3)]\n",
    "        )),\n",
    "        ('classifier', LinearSVC(C = 0.001))])\n",
    "    pipeline.fit(Xtrain, Ytrain)\n",
    "\n",
    "    Ypredict = pipeline.predict(Xtest)\n",
    "    print('Performance on a test set:\\n')\n",
    "    evaluate(Ytest, Ypredict)"
   ]
  },
  {
   "cell_type": "code",
   "execution_count": 4,
   "metadata": {},
   "outputs": [],
   "source": [
    "def evaluate(Ytest, Ypredict):\n",
    "        print(\"\\nAccuracy: \", accuracy_score(Ytest, Ypredict), \"\\n\")\n",
    "        print(\"Classification report:\\n\\n\", classification_report(Ytest, Ypredict))\n",
    "        print(\"Confusion matrix:\\n\\n\", confusion_matrix(Ytest, Ypredict), \"\\n\")"
   ]
  },
  {
   "cell_type": "code",
   "execution_count": 5,
   "metadata": {},
   "outputs": [],
   "source": [
    "train_set = pd.DataFrame(pd.read_csv('training_set_outcome_identification', sep='|')).set_index('Zaaknummer (LJN/ECLI)')\n",
    "test_set = pd.DataFrame(pd.read_csv('test_set_outcome_identification', sep='|')).set_index('Zaaknummer (LJN/ECLI)')"
   ]
  },
  {
   "cell_type": "code",
   "execution_count": 6,
   "metadata": {},
   "outputs": [],
   "source": [
    "full_set = pd.concat([train_set,test_set])\n",
    "for index, row in full_set.iterrows():\n",
    "    uitspraak = full_set.loc[index, 'extracted_text']\n",
    "    full_set.at[index,'extracted_verdict'] = extract_uitspraak(uitspraak)"
   ]
  },
  {
   "cell_type": "code",
   "execution_count": 7,
   "metadata": {},
   "outputs": [
    {
     "name": "stdout",
     "output_type": "stream",
     "text": [
      "Performance using keyword search:\n",
      "\n",
      "\n",
      "Accuracy:  0.8596491228070176 \n",
      "\n",
      "Classification report:\n",
      "\n",
      "               precision    recall  f1-score   support\n",
      "\n",
      "       False       0.88      0.65      0.75       292\n",
      "        True       0.85      0.96      0.90       620\n",
      "\n",
      "    accuracy                           0.86       912\n",
      "   macro avg       0.87      0.80      0.82       912\n",
      "weighted avg       0.86      0.86      0.85       912\n",
      "\n",
      "Confusion matrix:\n",
      "\n",
      " [[189 103]\n",
      " [ 25 595]] \n",
      "\n"
     ]
    }
   ],
   "source": [
    "print('Performance using keyword search:\\n')\n",
    "evaluate(full_set['Uitspraak'].tolist(), full_set['extracted_verdict'].tolist())"
   ]
  },
  {
   "cell_type": "code",
   "execution_count": null,
   "metadata": {},
   "outputs": [],
   "source": [
    "#based on machine learning (2500 last characters of the text) - parameters optimised using GridSearchCV (cv=3)\n",
    "Xtrain = [i.replace('\\n', '')[-2500:] for i in train_set['extracted_text'].tolist()]\n",
    "Ytrain = train_set['Uitspraak'].tolist()\n",
    "vec3 = CountVectorizer(analyzer = 'char',ngram_range = (1,7), max_features=2000, max_df = 0.9, lowercase=True, binary = True)\n",
    "svm =  Pipeline([\n",
    "        ('features', FeatureUnion([('charvec', vec3)]\n",
    "        )),\n",
    "        ('classifier', LinearSVC(C = 0.001))])\n",
    "Ypredict = cross_val_predict(svm, Xtrain, Ytrain, cv = 10)\n",
    "print('Cross-validation performance:')\n",
    "evaluate(Ytrain, Ypredict)"
   ]
  },
  {
   "cell_type": "code",
   "execution_count": null,
   "metadata": {},
   "outputs": [],
   "source": [
    "Xtest = [i.replace('\\n', '')[-2500:] for i in test_set['extracted_text'].tolist()]\n",
    "Ytest = test_set['Uitspraak'].tolist()\n",
    "test_model(Xtrain, Ytrain, Xtest, Ytest)"
   ]
  },
  {
   "cell_type": "code",
   "execution_count": null,
   "metadata": {},
   "outputs": [],
   "source": []
  }
 ],
 "metadata": {
  "kernelspec": {
   "display_name": "Python 3",
   "language": "python",
   "name": "python3"
  },
  "language_info": {
   "codemirror_mode": {
    "name": "ipython",
    "version": 3
   },
   "file_extension": ".py",
   "mimetype": "text/x-python",
   "name": "python",
   "nbconvert_exporter": "python",
   "pygments_lexer": "ipython3",
   "version": "3.7.6"
  }
 },
 "nbformat": 4,
 "nbformat_minor": 4
}
